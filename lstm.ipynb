{
 "cells": [
  {
   "cell_type": "code",
   "execution_count": 89,
   "metadata": {},
   "outputs": [],
   "source": [
    "import numpy as np\n",
    "import torch\n",
    "import torch.nn as nn\n",
    "from torch import Tensor, tensor\n",
    "import torch.nn.functional as F\n",
    "import torch.optim as optim\n",
    "import glob"
   ]
  },
  {
   "cell_type": "code",
   "execution_count": 84,
   "metadata": {},
   "outputs": [
    {
     "name": "stdout",
     "output_type": "stream",
     "text": [
      "Model loaded succeed\n",
      "加载词向量中 ...\n",
      "加载词完成！一共 249933个词\n",
      "加载原始文本中 ...\n",
      "num of category 0: 4021\n",
      "num of category 1: 2558\n",
      "num of category 2: 2439\n",
      "num of category 3: 2736\n",
      "num of category 4: 1241\n"
     ]
    }
   ],
   "source": [
    "from thulac import thulac\n",
    "thu = thulac(seg_only=True)\n",
    "\n",
    "class MyDataset():\n",
    "        \n",
    "    def __init__(self):\n",
    "        self.category_lines = {0: [], 1: [], 2: [], 3: [], 4: []}\n",
    "        self.word_vec = self.load_word_vector()\n",
    "        self.vector_dim = 300\n",
    "        \n",
    "    def load_word_vector(self, in_name='data/sgns.financial.word'):\n",
    "        \"\"\"\n",
    "        加载ACL2018词向量\n",
    "        \"\"\"\n",
    "        word_vec = {}\n",
    "        print('加载词向量中 ...')\n",
    "        for i, line in enumerate(open(in_name)):\n",
    "            if i <= 1:\n",
    "                continue\n",
    "            if i > 250000:\n",
    "                break\n",
    "            words = line.strip().split(' ')\n",
    "            word = words[0]\n",
    "#             print(word)\n",
    "            word_vec[word] = np.array([float(num) for num in words[1:]])\n",
    "    #         except UnicodeDecodeError:\n",
    "    #             print(\"编码问题，行 {}\".format(i))\n",
    "        print('加载词完成！一共 {}个词'.format(len(word_vec)))\n",
    "        return word_vec\n",
    "\n",
    "    def load(self):\n",
    "        \"\"\"\n",
    "        加载原始文本\n",
    "        \"\"\"\n",
    "        print('加载原始文本中 ...')\n",
    "        for in_name in glob.glob('data/labelled/*.txt'):\n",
    "            for i, line in enumerate(open(in_name)):\n",
    "                if line.strip() == '':\n",
    "                    continue\n",
    "                label = line.split('\\t')[0]\n",
    "                # 1234：四种情绪，-：没有情绪，x：不确定\n",
    "                if label in ['1', '2', '3', '4', '-']:\n",
    "                    if label == '-' or label == 'x':\n",
    "                        y = int('0')\n",
    "                    else:\n",
    "                        y = int(label)\n",
    "                self.category_lines[y].append(line.split('\\t')[1].strip())\n",
    "                       \n",
    "    def line_to_tensor(self, line):\n",
    "        \"\"\"\n",
    "        一句话转向量\n",
    "        \"\"\"\n",
    "        list_vec = []\n",
    "        for w in thu.cut(line): # 对分词结果进行处理\n",
    "            w = w[0]\n",
    "            if w in self.word_vec:\n",
    "                list_vec.append([self.word_vec[w]])\n",
    "        if list_vec:\n",
    "            _tensor = torch.as_tensor(list_vec)\n",
    "            return 1, _tensor\n",
    "        else:\n",
    "            return 0, None\n",
    "    \n",
    "\n",
    "dataset = MyDataset()\n",
    "dataset.load()\n",
    "\n",
    "for i in range(0, 5):\n",
    "    print('num of category {}: {}'.format(i, len(dataset.category_lines[i])))"
   ]
  },
  {
   "cell_type": "code",
   "execution_count": 97,
   "metadata": {},
   "outputs": [],
   "source": [
    "class RNN(nn.Module):\n",
    "    def __init__(self, input_size, hidden_size, output_size):\n",
    "        super(RNN, self).__init__()\n",
    "        \n",
    "        self.input_size = input_size\n",
    "        self.hidden_size = hidden_size\n",
    "        self.output_size = output_size\n",
    "        \n",
    "        self.i2h = nn.Linear(input_size + hidden_size, hidden_size)\n",
    "        self.i2o = nn.Linear(input_size + hidden_size, output_size)\n",
    "        self.softmax = nn.LogSoftmax(dim=1)\n",
    "     \n",
    "    def forward(self, input, hidden):\n",
    "        combined = torch.cat((input, hidden), 1)\n",
    "        hidden = self.i2h(combined)\n",
    "        output = self.i2o(combined)\n",
    "        output = self.softmax(output)\n",
    "        return output, hidden\n",
    "\n",
    "    def init_hidden(self):\n",
    "        return tensor(torch.zeros(1, self.hidden_size)).float()"
   ]
  },
  {
   "cell_type": "code",
   "execution_count": 98,
   "metadata": {},
   "outputs": [
    {
     "name": "stdout",
     "output_type": "stream",
     "text": [
      "input size = torch.Size([8, 1, 300]) torch.Size([1, 300]) torch.Size([1, 128])\n",
      "tensor([[-1.6741, -1.5772, -1.5789, -1.6282, -1.5922]], grad_fn=<LogSoftmaxBackward>)\n",
      "(1, 1)\n"
     ]
    }
   ],
   "source": [
    "all_categories = [0, 1, 2, 3, 4]\n",
    "\n",
    "rnn = RNN(300, 128, 5)\n",
    "bingo, input = dataset.line_to_tensor('对这样的市场，我彻底绝望了')\n",
    "hidden = torch.zeros(1, 128)\n",
    "print('input size =', input.size(), input[0].size(), hidden.size())\n",
    "output, next_hidden = rnn(input[0].float(), hidden.float())\n",
    "print(output)\n",
    "\n",
    "def category_from_output(output):\n",
    "    top_n, top_i = output.topk(1)\n",
    "    category_i = top_i[0].item()\n",
    "    return all_categories[category_i], category_i\n",
    "\n",
    "print(category_from_output(output))"
   ]
  },
  {
   "cell_type": "code",
   "execution_count": 102,
   "metadata": {},
   "outputs": [
    {
     "name": "stdout",
     "output_type": "stream",
     "text": [
      "category = 3 / line = 中国中铁怎么不分红啊，我都执有2年了\n",
      "category = 4 / line = 目前打压基本到位，最多仅仅存在理论上二毛钱的下跌空间\n",
      "category = 3 / line = 等着分点红利呀 套这么深\n",
      "category = 3 / line = 看到吧里这么多唱多我就呵呵了，今天应该会回调到21以下，上午赶紧能跑就跑吧\n",
      "category = 4 / line = 今天没跑的明天要赔大钱了！我只说真话！\n",
      "category = 1 / line = 603826套路太深A股什么时候才能真正与国际接轨国内石油价格稳居世界高位，中国A股熊霸全球一路向下。为什么差距这么大呢!什么时候A股才能雄霸天下，国内石油价格一路低位。那时就是盛世中国。\n",
      "category = 3 / line = 吧里那个吃吃没有事干，把陈年旧事老是翻出来。\n",
      "category = 3 / line = 牛散明晶逃跑了，我们散户站在高岗上了\n",
      "category = 3 / line = 要是随便买一只都最少20个点啦！浪费多少时间啊，实在是伤心。\n",
      "category = 0 / line = 这票主力筹码不够。收盘15.15\n"
     ]
    }
   ],
   "source": [
    "import random\n",
    "\n",
    "def random_choice(l):\n",
    "    return l[random.randint(0, len(l) - 1)]\n",
    "\n",
    "def random_training_example():\n",
    "    category = random_choice(all_categories)\n",
    "    line = random_choice(dataset.category_lines[category])\n",
    "    category_tensor = torch.tensor([all_categories.index(category)], dtype=torch.long)\n",
    "    bingo, line_tensor = dataset.line_to_tensor(line)\n",
    "    if bingo:\n",
    "        return category, line, category_tensor, line_tensor.float()\n",
    "    else:\n",
    "        return random_training_example()\n",
    "\n",
    "for i in range(10):\n",
    "    category, line, category_tensor, line_tensor = random_training_example()\n",
    "    print('category =', category, '/ line =', line)"
   ]
  },
  {
   "cell_type": "code",
   "execution_count": 100,
   "metadata": {
    "collapsed": true
   },
   "outputs": [],
   "source": [
    "# 设置参数\n",
    "input_size, hidden_size, output_size = 300, 128, 5\n",
    "learning_rate = 1e-5\n",
    "EPOCH = 5000\n",
    "\n",
    "# 定义函数\n",
    "rnn = RNN(input_size, hidden_size, output_size)\n",
    "\n",
    "# 优化器\n",
    "# optimizer = torch.optim.SGD(rnn.parameters(), lr=learning_rate)\n",
    "\n",
    "criterion = nn.NLLLoss()\n",
    "\n",
    "def train(category_tensor, line_tensor):\n",
    "    hidden = rnn.init_hidden()\n",
    "\n",
    "    rnn.zero_grad()\n",
    "\n",
    "    for i in range(line_tensor.size()[0]):\n",
    "        output, hidden = rnn(line_tensor[i], hidden)\n",
    "\n",
    "    loss = criterion(output, category_tensor)\n",
    "    loss.backward()\n",
    "\n",
    "    # Add parameters' gradients to their values, multiplied by learning rate\n",
    "    for p in rnn.parameters():\n",
    "        p.data.add_(-learning_rate, p.grad.data)\n",
    "\n",
    "    return output, loss.item()"
   ]
  },
  {
   "cell_type": "code",
   "execution_count": 103,
   "metadata": {},
   "outputs": [
    {
     "name": "stdout",
     "output_type": "stream",
     "text": [
      "5000 5% (0m 14s) 1.5281 12.13《满心感动～凤凰起飞》 市场现在太难做了 / 3 ✓\n",
      "10000 10% (0m 30s) 1.6305 最初的忍耐，是因为看好你。今天，不负所望。 / 0 ✗ (2)\n",
      "15000 15% (0m 46s) 1.5335 捂就一个字 我只说一次 / 3 ✓\n",
      "20000 20% (1m 1s) 1.7112 题材真心不错，但股价怎么走？？？ / 3 ✗ (2)\n",
      "25000 25% (1m 15s) 1.9005 跌下来拉上去，就是在诱惑大家接盘，不到49.5我是不会进的，笑看你折腾，这股没有主力一定只能低吸，成本在52以上的都很危险 / 0 ✗ (4)\n",
      "30000 30% (1m 31s) 1.4846 今受IPO影响，大盘低开低走，600661 30.83出局观望再说（ 163）， 目前空仓。[点击查看博客原文] / 3 ✗ (0)\n",
      "35000 35% (1m 46s) 1.5467 8.60抛凤凰传媒和5.32抛小京，祝投资顺利 / 0 ✗ (2)\n",
      "40000 40% (2m 1s) 1.6896 我也认为这星期该轮到有色金属涨 / 4 ✗ (0)\n",
      "45000 45% (2m 17s) 1.6462 美股小幅下跌 上涨板块减少 / 2 ✗ (0)\n",
      "50000 50% (2m 32s) 1.5730 恭喜坚定持有的朋友们 祝大家发财 / 3 ✗ (2)\n",
      "55000 55% (2m 48s) 1.7870 1949要破，要坚强,要做好股市再跌30%以上准备 / 3 ✗ (0)\n",
      "60000 60% (3m 3s) 1.6910 想当初，这狗日滴庄家从22一个月砸到7块是何等的无所顾忌 / 3 ✗ (1)\n",
      "65000 65% (3m 18s) 1.5435 封板的钱也没了，需要卖点出来 / 3 ✗ (1)\n",
      "70000 70% (3m 34s) 1.6247 最好不要涨，你就横盘吧 / 1 ✗ (4)\n",
      "75000 75% (3m 48s) 1.4559 002285回调到位，002148价值低估 / 0 ✓\n",
      "80000 80% (4m 4s) 1.5347 反正我卖了，祝你们好运了 / 3 ✓\n",
      "85000 85% (4m 19s) 1.8214 看60分钟线丫的还下跌增量了…… / 3 ✗ (0)\n",
      "90000 90% (4m 35s) 1.4629 熊市定增，无所谓利好利空 / 2 ✓\n",
      "95000 95% (4m 50s) 1.6701 反弹到现在涨幅过大，业绩是出货最好的利好 / 0 ✗ (4)\n",
      "100000 100% (5m 6s) 1.6854 ！暴涨暴涨暴涨暴涨暴涨暴涨暴涨暴涨暴涨暴涨 / 4 ✗ (2)\n"
     ]
    }
   ],
   "source": [
    "import time\n",
    "import math\n",
    "\n",
    "n_iters = 1000000\n",
    "print_every = 5000\n",
    "plot_every = 1000\n",
    "\n",
    "# Keep track of losses for plotting\n",
    "current_loss = 0\n",
    "all_losses = []\n",
    "\n",
    "def timeSince(since):\n",
    "    now = time.time()\n",
    "    s = now - since\n",
    "    m = math.floor(s / 60)\n",
    "    s -= m * 60\n",
    "    return '%dm %ds' % (m, s)\n",
    "\n",
    "start = time.time()\n",
    "\n",
    "for iter in range(1, n_iters + 1):\n",
    "    category, line, category_tensor, line_tensor = random_training_example()\n",
    "    output, loss = train(category_tensor, line_tensor)\n",
    "    current_loss += loss\n",
    "\n",
    "    # Print iter number, loss, name and guess\n",
    "    if iter % print_every == 0:\n",
    "        guess, guess_i = category_from_output(output)\n",
    "        correct = '✓' if guess == category else '✗ (%s)' % category\n",
    "        print('%d %d%% (%s) %.4f %s / %s %s' % (iter, iter / n_iters * 100, timeSince(start), loss, line, guess, correct))\n",
    "\n",
    "    # Add current loss avg to list of losses\n",
    "    if iter % plot_every == 0:\n",
    "        all_losses.append(current_loss / plot_every)\n",
    "        current_loss = 0"
   ]
  },
  {
   "cell_type": "code",
   "execution_count": 105,
   "metadata": {},
   "outputs": [
    {
     "data": {
      "text/plain": [
       "[<matplotlib.lines.Line2D at 0x7fcb28fb04e0>]"
      ]
     },
     "execution_count": 105,
     "metadata": {},
     "output_type": "execute_result"
    },
    {
     "data": {
      "image/png": "[encoded data removed]",
      "text/plain": [
       "<Figure size 432x288 with 1 Axes>"
      ]
     },
     "metadata": {},
     "output_type": "display_data"
    }
   ],
   "source": [
    "import matplotlib.pyplot as plt\n",
    "import matplotlib.ticker as ticker\n",
    "%matplotlib inline\n",
    "plt.figure()\n",
    "plt.plot(all_losses)"
   ]
  },
  {
   "cell_type": "code",
   "execution_count": 110,
   "metadata": {},
   "outputs": [
    {
     "data": {
      "image/png": "[encoded data removed]",
      "text/plain": [
       "<Figure size 432x288 with 2 Axes>"
      ]
     },
     "metadata": {},
     "output_type": "display_data"
    }
   ],
   "source": [
    "# Keep track of correct guesses in a confusion matrix\n",
    "n_categories = 5\n",
    "confusion = torch.zeros(n_categories, n_categories)\n",
    "n_confusion = 10000\n",
    "\n",
    "# Just return an output given a line\n",
    "def evaluate(line_tensor):\n",
    "    hidden = rnn.init_hidden()\n",
    "\n",
    "    for i in range(line_tensor.size()[0]):\n",
    "        output, hidden = rnn(line_tensor[i], hidden)\n",
    "\n",
    "    return output\n",
    "\n",
    "# Go through a bunch of examples and record which are correctly guessed\n",
    "for i in range(n_confusion):\n",
    "    category, line, category_tensor, line_tensor = random_training_example()\n",
    "    output = evaluate(line_tensor)\n",
    "    guess, guess_i = category_from_output(output)\n",
    "    category_i = all_categories.index(category)\n",
    "    confusion[category_i][guess_i] += 1\n",
    "\n",
    "# Normalize by dividing every row by its sum\n",
    "for i in range(n_categories):\n",
    "    confusion[i] = confusion[i] / confusion[i].sum()\n",
    "\n",
    "# Set up plot\n",
    "fig = plt.figure()\n",
    "ax = fig.add_subplot(111)\n",
    "cax = ax.matshow(confusion.numpy())\n",
    "fig.colorbar(cax)\n",
    "\n",
    "# Set up axes\n",
    "ax.set_xticklabels([''] + all_categories, rotation=90)\n",
    "ax.set_yticklabels([''] + all_categories)\n",
    "\n",
    "# Force label at every tick\n",
    "ax.xaxis.set_major_locator(ticker.MultipleLocator(1))\n",
    "ax.yaxis.set_major_locator(ticker.MultipleLocator(1))\n",
    "\n",
    "# sphinx_gallery_thumbnail_number = 2\n",
    "plt.show()"
   ]
  }
 ],
 "metadata": {
  "kernelspec": {
   "display_name": "Python 3",
   "language": "python",
   "name": "python3"
  },
  "language_info": {
   "codemirror_mode": {
    "name": "ipython",
    "version": 3
   },
   "file_extension": ".py",
   "mimetype": "text/x-python",
   "name": "python",
   "nbconvert_exporter": "python",
   "pygments_lexer": "ipython3",
   "version": "3.6.6"
  }
 },
 "nbformat": 4,
 "nbformat_minor": 2
}
