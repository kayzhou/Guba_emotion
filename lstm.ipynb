{
 "cells": [
  {
   "cell_type": "code",
   "execution_count": 11,
   "metadata": {},
   "outputs": [],
   "source": [
    "import numpy as np\n",
    "import torch\n",
    "import torch.nn as nn\n",
    "from torch import Tensor, tensor\n",
    "import torch.nn.functional as F\n",
    "import torch.optim as optim\n",
    "import glob\n",
    "import random"
   ]
  },
  {
   "cell_type": "code",
   "execution_count": 15,
   "metadata": {},
   "outputs": [
    {
     "name": "stdout",
     "output_type": "stream",
     "text": [
      "Model loaded succeed\n",
      "加载词向量中 ...\n",
      "加载词完成！一共 249933个词\n",
      "加载原始文本中 ...\n",
      "num of category 0: 2823\n",
      "num of category 0 / vali: 352\n",
      "num of category 0 / test: 352\n",
      "num of category 1: 1879\n",
      "num of category 1 / vali: 234\n",
      "num of category 1 / test: 234\n",
      "num of category 2: 1905\n",
      "num of category 2 / vali: 238\n",
      "num of category 2 / test: 238\n",
      "num of category 3: 2069\n",
      "num of category 3 / vali: 258\n",
      "num of category 3 / test: 258\n",
      "num of category 4: 897\n",
      "num of category 4 / vali: 112\n",
      "num of category 4 / test: 112\n"
     ]
    }
   ],
   "source": [
    "from thulac import thulac\n",
    "thu = thulac(seg_only=True)\n",
    "\n",
    "class MyDataset():\n",
    "        \n",
    "    def __init__(self):\n",
    "        self.category_lines = {0: [], 1: [], 2: [], 3: [], 4: []}\n",
    "        # 验证集\n",
    "        self.category_lines_vali = {0: [], 1: [], 2: [], 3: [], 4: []}\n",
    "        # 测试集\n",
    "        self.category_lines_test = {0: [], 1: [], 2: [], 3: [], 4: []}\n",
    "        \n",
    "        self.word_vec = self.load_word_vector()\n",
    "        self.vector_dim = 300\n",
    "        \n",
    "    def load_word_vector(self, in_name='data/sgns.financial.word'):\n",
    "        \"\"\"\n",
    "        加载ACL2018词向量\n",
    "        \"\"\"\n",
    "        word_vec = {}\n",
    "        print('加载词向量中 ...')\n",
    "        for i, line in enumerate(open(in_name)):\n",
    "            if i <= 1:\n",
    "                continue\n",
    "            if i > 250000:\n",
    "                break\n",
    "            words = line.strip().split(' ')\n",
    "            word = words[0]\n",
    "#             print(word)\n",
    "            word_vec[word] = np.array([float(num) for num in words[1:]])\n",
    "    #         except UnicodeDecodeError:\n",
    "    #             print(\"编码问题，行 {}\".format(i))\n",
    "        print('加载词完成！一共 {}个词'.format(len(word_vec)))\n",
    "        return word_vec\n",
    "\n",
    "    def load(self):\n",
    "        \"\"\"\n",
    "        加载原始文本\n",
    "        \"\"\"\n",
    "        print('加载原始文本中 ...')\n",
    "        for in_name in glob.glob('data/labelled_split/*.txt'):\n",
    "            for i, line in enumerate(open(in_name)):\n",
    "                if line.strip() == '':\n",
    "                    continue\n",
    "                label = line.split('\\t')[0]\n",
    "                # 1234：四种情绪，-：没有情绪，x：不确定\n",
    "                if label in ['1', '2', '3', '4', '-']:\n",
    "                    if label == '-' or label == 'x':\n",
    "                        y = int('0')\n",
    "                    else:\n",
    "                        y = int(label)\n",
    "                self.category_lines[y].append(line.split('\\t')[1].strip())\n",
    "    \n",
    "    def flow_to_vali_test(self):\n",
    "        \"\"\"\n",
    "        训练数据流部分数据到验证集和测试集，分别为80%，10%，10%\n",
    "        \"\"\"\n",
    "        random.seed(41)\n",
    "        for i in range(5):\n",
    "            random.shuffle(self.category_lines[i])\n",
    "            _len = len(self.category_lines[i])\n",
    "            tenth = int(_len / 10)\n",
    "            self.category_lines_vali[i] = self.category_lines[i][0: tenth]\n",
    "            self.category_lines_test[i] = self.category_lines[i][tenth: 2 * tenth]\n",
    "            self.category_lines[i] = self.category_lines[i][2 * tenth:]\n",
    "        \n",
    "    def line_to_tensor(self, line):\n",
    "        \"\"\"\n",
    "        一句话转向量\n",
    "        \"\"\"\n",
    "        list_vec = []\n",
    "        for w in thu.cut(line): # 对分词结果进行处理\n",
    "            w = w[0]\n",
    "            if w in self.word_vec:\n",
    "                list_vec.append([self.word_vec[w]])\n",
    "        if list_vec:\n",
    "            _tensor = torch.as_tensor(list_vec)\n",
    "            return 1, _tensor\n",
    "        else:\n",
    "            return 0, None\n",
    "    \n",
    "\n",
    "dataset = MyDataset()\n",
    "dataset.load()\n",
    "dataset.flow_to_vali_test()\n",
    "\n",
    "for i in range(0, 5):\n",
    "    print('num of category {}: {}'.format(i, len(dataset.category_lines[i])))\n",
    "    print('num of category {} / vali: {}'.format(i, len(dataset.category_lines_vali[i])))\n",
    "    print('num of category {} / test: {}'.format(i, len(dataset.category_lines_test[i])))"
   ]
  },
  {
   "cell_type": "code",
   "execution_count": 16,
   "metadata": {},
   "outputs": [],
   "source": [
    "class RNN(nn.Module):\n",
    "    def __init__(self, input_size, hidden_size, output_size):\n",
    "        super(RNN, self).__init__()\n",
    "        \n",
    "        self.input_size = input_size\n",
    "        self.hidden_size = hidden_size\n",
    "        self.output_size = output_size\n",
    "        \n",
    "        self.i2h = nn.Linear(input_size + hidden_size, hidden_size)\n",
    "        self.i2o = nn.Linear(input_size + hidden_size, output_size)\n",
    "        self.softmax = nn.LogSoftmax(dim=1)\n",
    "     \n",
    "    def forward(self, input, hidden):\n",
    "        combined = torch.cat((input, hidden), 1)\n",
    "        hidden = self.i2h(combined)\n",
    "        output = self.i2o(combined)\n",
    "        output = self.softmax(output)\n",
    "        return output, hidden\n",
    "\n",
    "    def init_hidden(self):\n",
    "        return tensor(torch.zeros(1, self.hidden_size)).float()"
   ]
  },
  {
   "cell_type": "code",
   "execution_count": 20,
   "metadata": {},
   "outputs": [
    {
     "name": "stdout",
     "output_type": "stream",
     "text": [
      "input size = torch.Size([8, 1, 300]) torch.Size([1, 300]) torch.Size([1, 128])\n",
      "tensor([[-1.6239, -1.5228, -1.6529, -1.6196, -1.6333]], grad_fn=<LogSoftmaxBackward>)\n",
      "(1, 1)\n"
     ]
    }
   ],
   "source": [
    "all_categories = [0, 1, 2, 3, 4]\n",
    "\n",
    "rnn = RNN(300, 128, 5)\n",
    "bingo, input = dataset.line_to_tensor('对这样的市场，我彻底绝望了')\n",
    "hidden = torch.zeros(1, 128)\n",
    "print('input size =', input.size(), input[0].size(), hidden.size())\n",
    "output, next_hidden = rnn(input[0].float(), hidden.float())\n",
    "print(output)\n",
    "\n",
    "def category_from_output(output):\n",
    "    top_n, top_i = output.topk(1)\n",
    "    category_i = top_i[0].item()\n",
    "    return all_categories[category_i], category_i\n",
    "\n",
    "print(category_from_output(output))"
   ]
  },
  {
   "cell_type": "code",
   "execution_count": 21,
   "metadata": {},
   "outputs": [
    {
     "name": "stdout",
     "output_type": "stream",
     "text": [
      "category = 4 / line = 今天又有一只手在托，否则回调开始\n",
      "category = 2 / line = 越是这样我们越有信心，让他们急了跳墙\n",
      "category = 2 / line = “一带一路”全球瞩目 A股今日迎“剧变”！\n",
      "category = 4 / line = 得利斯重组失败与成功我记得停盘前天下午庄家最后十分钟，主机挂天价卖单，换手率奇高，而且连续几天涨停，这涨停有两种分析，一种是大跌之后反弹，另一种是主力提前知道这个消息，借题材出货，我判断重组成功也会跌停，主力出货已完毕，开始咋盘，上海梅林已算是前车之鉴，我不怕跌，就怕继续停盘把资金耗在里面。\n",
      "category = 3 / line = 4.45跑了 留下来的兄弟 恭喜发财\n",
      "category = 2 / line = $$$$$$公开我的牛股账户：本周抓住两大牛股（氯碱化工和三爱富）和一大潜力牛股（兴发集团）！！！\n",
      "category = 4 / line = 600803没有散户了，5天大涨30%\n",
      "category = 2 / line = 没看错，果然是好股，走出了和大盘不一样的风格，就是喜欢你这种风骚劲！\n",
      "category = 2 / line = 目前股吧关注人数73.6万，流通值96亿。股吧关注人数x1万＜流通值，必涨！\n",
      "category = 2 / line = 今天才知道置信原来是做碳交易的，那不是与绿色低碳对着干吗，明天这股票完了！\n"
     ]
    }
   ],
   "source": [
    "import random\n",
    "\n",
    "def random_choice(l):\n",
    "    return l[random.randint(0, len(l) - 1)]\n",
    "\n",
    "def random_training_example():\n",
    "    category = random_choice(all_categories)\n",
    "    line = random_choice(dataset.category_lines[category])\n",
    "    category_tensor = torch.tensor([all_categories.index(category)], dtype=torch.long)\n",
    "    bingo, line_tensor = dataset.line_to_tensor(line)\n",
    "    if bingo:\n",
    "        return category, line, category_tensor, line_tensor.float()\n",
    "    else:\n",
    "        return random_training_example()\n",
    "\n",
    "for i in range(10):\n",
    "    category, line, category_tensor, line_tensor = random_training_example()\n",
    "    print('category =', category, '/ line =', line)"
   ]
  },
  {
   "cell_type": "code",
   "execution_count": 22,
   "metadata": {
    "collapsed": true
   },
   "outputs": [],
   "source": [
    "# 设置参数\n",
    "input_size, hidden_size, output_size = 300, 128, 5\n",
    "learning_rate = 1e-5\n",
    "EPOCH = 5000\n",
    "\n",
    "# 定义函数\n",
    "rnn = RNN(input_size, hidden_size, output_size)\n",
    "\n",
    "# 优化器\n",
    "# optimizer = torch.optim.SGD(rnn.parameters(), lr=learning_rate)\n",
    "\n",
    "criterion = nn.NLLLoss()\n",
    "\n",
    "def train(category_tensor, line_tensor):\n",
    "    hidden = rnn.init_hidden()\n",
    "\n",
    "    rnn.zero_grad()\n",
    "\n",
    "    for i in range(line_tensor.size()[0]):\n",
    "        output, hidden = rnn(line_tensor[i], hidden)\n",
    "\n",
    "    loss = criterion(output, category_tensor)\n",
    "    loss.backward()\n",
    "\n",
    "    # Add parameters' gradients to their values, multiplied by learning rate\n",
    "    for p in rnn.parameters():\n",
    "        p.data.add_(-learning_rate, p.grad.data)\n",
    "\n",
    "    return output, loss.item()"
   ]
  },
  {
   "cell_type": "code",
   "execution_count": 23,
   "metadata": {},
   "outputs": [
    {
     "name": "stdout",
     "output_type": "stream",
     "text": [
      "10000 1% (0m 30s) 1.5996 快卖吧，在不卖就跌停了 / 1 ✗ (4)\n",
      "20000 2% (1m 1s) 1.5626 支持龙图，不上30个板不走 / 0 ✗ (2)\n",
      "30000 3% (1m 32s) 1.7481 收评：行情没有该不该，只有跟不跟 / 3 ✗ (0)\n",
      "40000 4% (2m 3s) 1.7120 前几日，二局拉升的时候，铁建上午砸盘，尾盘二局涨停，铁建尾盘拉回，早上砸盘的主力哭了，今天中铁很有可能涨停，下午货2点办后，交割尾声，中铁涨停，到时候电建有些人又要哭了！ / 2 ✗ (3)\n",
      "50000 5% (2m 34s) 1.5680 老妖没了呼吸 呼吸机也就没用了 / 1 ✓\n",
      "60000 6% (3m 5s) 1.5962 看不懂，这些游资太特虐心了 / 1 ✗ (3)\n",
      "70000 7% (3m 35s) 1.5387 有点打破黑色星期五的味道。中国队，加油，多拉 / 2 ✓\n",
      "80000 8% (4m 5s) 1.6482 大盘好的时候没你，大盘跌你比兔子还快！ / 2 ✗ (1)\n",
      "90000 9% (4m 36s) 1.7852 此股撑死二涨停！第二个时必打开！ / 2 ✗ (0)\n",
      "100000 10% (5m 7s) 1.8185 上面要慢慢消化，一次性上去有点难，等套牢盘磨掉，中线行情 / 4 ✗ (3)\n",
      "110000 11% (5m 38s) 1.5613 从今天的K线看，并没有站稳在5日线，本周华兰生物会继续调整直至40元，即10天线与5天线之间的叉点 / 0 ✓\n",
      "120000 12% (6m 8s) 1.4404 真不想揭穿你，下午红军5个点以上见，睡觉去，还有那些不看好的赶紧丢了，我相信你们丢不丢股价也不会下降，因为有人接得住，正好多补下量，谢谢各位老板，睡觉去 / 1 ✓\n",
      "130000 13% (6m 39s) 1.7331 能在80左右来吗？我钱等起买你 / 1 ✗ (0)\n",
      "140000 14% (7m 10s) 1.7235 前期7.83是成交密集区，抛盘压力大，快出。 / 0 ✗ (4)\n",
      "150000 15% (7m 40s) 1.4949 总觉得昆药有什么大事在隐藏！ / 2 ✗ (4)\n",
      "160000 16% (8m 12s) 1.6126 主力根本不要筹码，如果要只要轻轻动一下，就会有大笔的到手，看来这货 还是 依靠 吧里唱多的 人 在出货。 / 1 ✗ (2)\n",
      "170000 17% (8m 42s) 1.4508 祝大家5.1过个好节日 / 2 ✓\n",
      "180000 18% (9m 13s) 1.7639 昨天4.12买入，今天3.97已割肉，哈哈哈，等着跌停抄底咯 / 4 ✗ (3)\n",
      "190000 19% (9m 44s) 1.6758 我反正是今天买了不少，听朋友劝，得一大半！ / 2 ✗ (3)\n",
      "200000 20% (10m 14s) 1.6086 呜呜呜呜呜呜呜呜 猪力哭了，猪力把子弹砸光了都没把股票咋跌停 / 2 ✗ (3)\n",
      "210000 21% (10m 45s) 1.5552 垃圾股，完蛋了，要到11元了 / 1 ✓\n",
      "220000 22% (11m 15s) 1.6350 嘎嘎，我是信隆的員工，長久持有，同事都持有了 / 3 ✗ (2)\n",
      "230000 23% (11m 46s) 1.5660 中铝又涨停了，骂我的人能向我道歉吗？还有，红军马上就要打过来了。 / 0 ✗ (1)\n",
      "240000 24% (12m 17s) 1.6935 上证指数连续四阳收涨 再回3100点 贵州茅台又创 / 2 ✗ (3)\n",
      "250000 25% (12m 47s) 1.4841 呵呵呵，表演的如此卖力。今天沃不会买的。因为我昨天买了。又买了别的一支股票。别怕！庄。现在哪里都有机会。这里已经埋伏上一半即可。等别的股票玩的差不多了。再回来和你溜达溜达。。。 / 0 ✓\n",
      "260000 26% (13m 18s) 1.4831 买进吧.............. / 3 ✓\n",
      "270000 27% (13m 49s) 1.6502 投资者赔得前无古人后无来者 / 1 ✗ (3)\n",
      "280000 28% (14m 20s) 1.8498 湖南能发展起来，那么母猪也会上树，哈哈 / 0 ✗ (3)\n",
      "290000 28% (14m 51s) 1.5932 1.6 万亿救东北。这是否是利好？ / 4 ✗ (3)\n",
      "300000 30% (15m 21s) 1.4050 海峡如果明天跌到14以下就满仓。买它20万手，做个小股东。 / 0 ✓\n",
      "310000 31% (15m 53s) 1.4103 这就是妖股的本性！珍惜！ / 2 ✓\n",
      "320000 32% (16m 24s) 1.6321 个个股神，都空观望，谁在股市 / 2 ✗ (3)\n",
      "330000 33% (16m 55s) 1.5584 重点指出～～新股不能抄 / 1 ✗ (0)\n",
      "340000 34% (17m 25s) 1.5443 还要回到6.8，但7.7也会很快见到 / 0 ✗ (3)\n",
      "350000 35% (17m 56s) 1.5223 再次声明，别涨了，别涨了。涨得让人心慌！ / 2 ✗ (4)\n",
      "360000 36% (18m 27s) 1.5427 紧急通知！明天跌停！小妹打算买入一百万元！不是一百万股哦(⊙o⊙)哦！因为敢死队已经关注此股了！明天的表演将会是精彩绝伦！荡气回肠！ / 2 ✗ (4)\n",
      "370000 37% (18m 58s) 1.5324 你这破股还5亿收购银行，让财务亏损，太阴险了 / 3 ✗ (1)\n",
      "380000 38% (19m 28s) 1.4417 小单买的，在在套人，危险 / 4 ✓\n",
      "390000 39% (19m 58s) 1.4610 庄家主力已流出2.75亿了，还在大量流出，不可能涨了。 / 0 ✓\n",
      "400000 40% (20m 28s) 1.5108 机构不会买次新，除非跌到位。都是些游资在炒，手法凶狠，散户在与狼共舞。 / 0 ✓\n",
      "410000 41% (20m 59s) 1.7541 不出意外跌7个点应该不成问题 / 4 ✗ (2)\n",
      "420000 42% (21m 30s) 1.5621 一汽富维600742突破区间整理，敬请各位前去助攻 / 3 ✗ (2)\n",
      "430000 43% (22m 1s) 1.5272 从复盘到现在，主力没有一天是净流入的。你大爷。 / 0 ✗ (1)\n",
      "440000 44% (22m 32s) 1.7551 还在负隅顽抗 垂死挣扎赶快下跌 / 4 ✗ (1)\n",
      "450000 45% (23m 2s) 1.5494 大家散了吧！有16810这畜生在，此股好不了 / 3 ✗ (1)\n",
      "460000 46% (23m 32s) 1.3770 乐视网地板买的，不知道今天会怎样 / 4 ✓\n",
      "470000 47% (24m 3s) 1.5889 北方雾霾燃煤是祸首，国家必须扶持光伏发电，未来的大红牛。 / 0 ✗ (2)\n",
      "480000 48% (24m 34s) 1.5860 猴年祝各位买大立的尽快回本 / 2 ✗ (0)\n",
      "490000 49% (25m 4s) 1.5741 000751管理层正在通过二级市场购买股票增加自己持有股票数量，经过重整矿产加冶炼合二为一业绩将大幅提升，此股价值严重低估。 / 0 ✗ (2)\n",
      "500000 50% (25m 34s) 1.4831 这个票从来就没有主力一说，只有渣庄，前期参与的机构基本都被这个渣庄放血出逃了，现在基本没有机构敢大资金介入，面上说是有21家基金，但持股份额少的可怜，每天挂大单压股价的就是这个渣庄，什么时间涨只有这个渣庄自己知道，可以肯定的是除了渣庄自己，没有机构拉得动这厮，猜测有可能渣庄已经将资金挪用了，现在根本就没有资金拉升股价，在资金回笼前，渣庄一定死压股价 / 4 ✓\n",
      "510000 51% (26m 5s) 1.5632 90元跌到2元的股，历史没有 / 0 ✗ (4)\n",
      "520000 52% (26m 36s) 1.4127 擦，一买就不动了那个家伙在哪里，找你有重要的事情商量！ / 1 ✓\n",
      "530000 53% (27m 6s) 1.5777 ju yao qi fei l / 0 ✗ (2)\n",
      "540000 54% (27m 37s) 1.3499 大盘震荡筑筑底需要时间。至于五一后能否有像样的反弹，一要看筑底的情况，底部是否扎实 / 0 ✓\n",
      "550000 55% (28m 8s) 1.5901 福耀这种垃圾与亏损股 竟然能存在于主板 我也服了 估值不超过8元 机构为了出货给的高估值报告 就是为了出货 / 0 ✗ (1)\n",
      "560000 56% (28m 36s) 1.6883 秦川猪力，有种上九元，天天阴跌 / 4 ✗ (1)\n",
      "570000 56% (29m 7s) 1.4493 海润风雨过后没有彩虹，说多了都是泪，血流成河，留点活路吧，别那么缺德 / 1 ✗ (3)\n",
      "580000 57% (29m 38s) 1.7388 并不是共享单车龙头 难以有大的发展 / 0 ✗ (3)\n",
      "590000 59% (30m 8s) 1.5130 今天中铁资金尽流入排名第一 / 0 ✗ (2)\n",
      "600000 60% (30m 38s) 1.6937 今天又加仓了，想想我现在买1000股花的1550元就相当于刚上市时候的9万元，我越想越美，自己也做了一回有钱人！持续买入中。 / 0 ✗ (1)\n",
      "610000 61% (31m 10s) 1.7543 重出江湖    呵呵    下周 000632  会涨 / 4 ✗ (1)\n",
      "620000 62% (31m 40s) 1.6712 别再自己骗自己了 鸵鸟不好当 :还买中国水电吗？ / 4 ✗ (3)\n",
      "630000 63% (32m 11s) 1.3285 义庄主力啊，最好来个涨停吧，让我们高高兴兴过个年！ / 2 ✓\n",
      "640000 64% (32m 41s) 1.6555 1，前几天放量突破，难道横盘这么久就是为了这不到20％的利澜，半年就赚这点小钱，以为都像你这等屁散，要出早在横盘就出了，早去做别的不知赚了多少倍2，昨放量，也完全是受大盘拖累，不排出是前期主力已到吸货尾端，刚好借大盘大跌来吸引眼求，前几天大涨，而又不想太多人跟风，所以选择昨边拉边洗，今在无量跌停，，相信主力一定不会让大家失望的 / 3 ✗ (1)\n",
      "650000 65% (33m 11s) 1.4459 确实的天天空仓唱多，这下子没上车了吧 / 3 ✓\n",
      "660000 66% (33m 41s) 1.7113 怎么办啊？该不该抛？心里没底啊。。 / 0 ✗ (4)\n",
      "670000 67% (34m 12s) 1.7258 这两天倒了血霉了，大盘暴涨结果买哪个哪个跌 / 4 ✗ (1)\n",
      "680000 68% (34m 43s) 1.5435 还是来买ST兴业吧！翻倍行情 / 4 ✗ (2)\n",
      "690000 69% (35m 13s) 1.4885 十大股东淡定，小散少了些。 / 0 ✓\n",
      "700000 70% (35m 44s) 1.6881 明天来个一样穿4线多好啊 / 1 ✗ (2)\n",
      "710000 71% (36m 14s) 1.6297 马上就要拉升 大家抓紧上车 / 1 ✗ (2)\n",
      "720000 72% (36m 45s) 1.4214 垃圾，废铁！垃圾，废铁！ / 2 ✗ (1)\n",
      "730000 73% (37m 15s) 1.3624 注意: 有可能重复前期高点的走势。 / 0 ✓\n",
      "740000 74% (37m 46s) 1.4045 短期间有利好部长的要求，但是长期一定会造成重大亏损，跌倒4.5附近是必然的，，，见好就收，落袋为安，复牌一个涨停足以，然后就是漫漫的下跌路 / 0 ✓\n",
      "750000 75% (38m 17s) 1.2918 看看吧里挺热闹的，今天无量第一板大家都很开心，我也同乐！希望板越多越好！大家一起发！ / 2 ✓\n",
      "760000 76% (38m 48s) 1.8521 主力没子弹了 大家快抢筹码 / 3 ✗ (0)\n",
      "770000 77% (39m 19s) 1.2938 尾盘接回，不知是福是祸 / 4 ✓\n",
      "780000 78% (39m 50s) 1.8116 今天看到封单少，第一时间就卖出去了。都不知敢不敢接回来？请高手点醒 / 4 ✗ (0)\n",
      "790000 79% (40m 21s) 1.4702 烦啊，建发被关半年多了，这里又关起，又是遥遥无期，还要人活不 / 1 ✓\n",
      "800000 80% (40m 51s) 1.3515 跌这么多，公司不出来给个说法吗 / 1 ✗ (4)\n",
      "810000 81% (41m 22s) 1.3537 该股关注的人真是少得可怜 / 1 ✗ (3)\n",
      "820000 82% (41m 52s) 1.6681 你这是雄安的垃圾屎还不如 别再拿雄安出新闻 / 2 ✗ (1)\n",
      "830000 83% (42m 23s) 1.4559 红为什么到现在还没有到账？ / 4 ✗ (1)\n",
      "840000 84% (42m 54s) 1.9949 没办法，大家都有软件，提示卖出时很多人争着卖出，类似于“集体操作”，这个软件是我朋友所在的证券公司给散户选票用的，楼主借用一用，没什么好骄傲的，也不证明楼主水平高，低调吃饱饭呵呵！不建议大家都去买软件，用证券公司免费提供的机构版就够用了。可能我认可的软件别人会嗤之以鼻，分析风格不同嘛，勿喷！ / 2 ✗ (0)\n",
      "850000 85% (43m 24s) 1.6313 真的是天马涨一点好多托就出来了。 / 0 ✗ (1)\n",
      "860000 86% (43m 54s) 1.6537 电建这么多利好，为什么不涨? / 0 ✗ (3)\n",
      "870000 87% (44m 25s) 1.2119 大家趁紧跳啊,明显用季报的数据来做空,这就是叫诱空吗? 要考虑大盘系统性下跌 / 4 ✓\n",
      "880000 88% (44m 56s) 1.4852 换手50%，什么概念，成交13亿左右，淮海垃圾5000万亏损走了，被其他游资分了。雄安金融次新股很牛逼。 / 0 ✓\n",
      "890000 89% (45m 27s) 1.4952 闽灿坤Ｂ1月10日快速反弹 / 4 ✗ (2)\n",
      "900000 90% (45m 57s) 1.6557 有留下的大神讨论下今天这种走势，为什么？ / 4 ✗ (0)\n",
      "910000 91% (46m 28s) 1.7279 暴跌来临了，垃圾股一枚！！！今天本人已经满仓已清。 / 0 ✗ (1)\n",
      "920000 92% (46m 59s) 1.5269 突破啦！，迅速加仓满上买进 / 0 ✗ (2)\n",
      "930000 93% (47m 29s) 0.8823 尾盘，大批资金高位出逃 / 4 ✓\n",
      "940000 94% (48m 0s) 1.5239 看来减持是有道理依据的吧 / 3 ✗ (1)\n",
      "950000 95% (48m 31s) 1.6587 没有量， 基本废了。任何票， 不管涨听， 如不放量， 都没有参与的价值。 套得不多的认赔散了吧。 进来两天， 小亏4个点， 闪了。 留下的发财。 / 0 ✗ (3)\n",
      "960000 96% (49m 1s) 1.3526 怎么又是了。。看贴量突然大增。肯定是在刷流量。。其实不要在涨了。就收在5.59就行！！ / 2 ✓\n",
      "970000 97% (49m 32s) 1.5196 好的不一定适合自己，适合自己的才是好的 / 0 ✓\n",
      "980000 98% (50m 2s) 1.3758 等中车出来，就是每天涨停板了！！！ / 2 ✓\n",
      "990000 99% (50m 33s) 1.3427 上证3500了，益佰还在跌 / 4 ✓\n",
      "1000000 100% (51m 4s) 1.6826 价跌量增初主跌 下跌有量续下行 / 0 ✗ (3)\n"
     ]
    }
   ],
   "source": [
    "import time\n",
    "import math\n",
    "\n",
    "n_iters = 1000000\n",
    "print_every = 10000\n",
    "plot_every = 1000\n",
    "\n",
    "# Keep track of losses for plotting\n",
    "current_loss = 0\n",
    "all_losses = []\n",
    "\n",
    "def timeSince(since):\n",
    "    now = time.time()\n",
    "    s = now - since\n",
    "    m = math.floor(s / 60)\n",
    "    s -= m * 60\n",
    "    return '%dm %ds' % (m, s)\n",
    "\n",
    "# Just return an output given a line\n",
    "def evaluate(line_tensor):\n",
    "    hidden = rnn.init_hidden()\n",
    "    for i in range(line_tensor.size()[0]):\n",
    "        output, hidden = rnn(line_tensor[i], hidden)\n",
    "    return output\n",
    "\n",
    "start = time.time()\n",
    "\n",
    "for iter in range(1, n_iters + 1):\n",
    "    category, line, category_tensor, line_tensor = random_training_example()\n",
    "    output, loss = train(category_tensor, line_tensor)\n",
    "    current_loss += loss\n",
    "\n",
    "    # Print iter number, loss, name and guess\n",
    "    if iter % print_every == 0:\n",
    "        guess, guess_i = category_from_output(output)\n",
    "        correct = '✓' if guess == category else '✗ (%s)' % category\n",
    "        print('%d %d%% (%s) %.4f %s / %s %s' % (iter, iter / n_iters * 100, timeSince(start), loss, line, guess, correct))\n",
    "\n",
    "    # Add current loss avg to list of losses\n",
    "    if iter % plot_every == 0:\n",
    "        all_losses.append(current_loss / plot_every)\n",
    "        current_loss = 0"
   ]
  },
  {
   "cell_type": "code",
   "execution_count": 9,
   "metadata": {},
   "outputs": [
    {
     "data": {
      "text/plain": [
       "[<matplotlib.lines.Line2D at 0x7f2b17f9fcf8>]"
      ]
     },
     "execution_count": 9,
     "metadata": {},
     "output_type": "execute_result"
    },
    {
     "data": {
      "image/png": "iVBORw0KGgoAAAANSUhEUgAAAX4AAAD8CAYAAABw1c+bAAAABHNCSVQICAgIfAhkiAAAAAlwSFlz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\nSl5MXIEkX+0AAAAASUVORK5CYII=\n",
      "text/plain": [
       "<Figure size 432x288 with 1 Axes>"
      ]
     },
     "metadata": {},
     "output_type": "display_data"
    }
   ],
   "source": [
    "import matplotlib.pyplot as plt\n",
    "import matplotlib.ticker as ticker\n",
    "%matplotlib inline\n",
    "plt.figure()\n",
    "plt.plot(all_losses)"
   ]
  },
  {
   "cell_type": "code",
<<<<<<< HEAD
   "execution_count": 51,
   "metadata": {},
   "outputs": [
    {
     "data": {
      "text/plain": [
       "[<matplotlib.lines.Line2D at 0x7f86e29e9e80>]"
      ]
     },
     "execution_count": 51,
     "metadata": {},
     "output_type": "execute_result"
    },
    {
     "data": {
      "image/png": "iVBORw0KGgoAAAANSUhEUgAAAYQAAAD8CAYAAAB3u9PLAAAABHNCSVQICAgIfAhkiAAAAAlwSFlz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\nqCAoiqIoAPz/6amc08kdejAAAAAASUVORK5CYII=\n",
      "text/plain": [
       "<Figure size 432x288 with 1 Axes>"
      ]
     },
     "metadata": {},
     "output_type": "display_data"
    }
   ],
   "source": [
    "%matplotlib inline\n",
    "plt.figure()\n",
    "plt.plot(all_accuracy)"
   ]
  },
  {
   "cell_type": "code",
   "execution_count": 53,
=======
   "execution_count": 10,
>>>>>>> e40a6ac720aa743dd497f149da0cec7fa3181b0b
   "metadata": {},
   "outputs": [
    {
     "data": {
      "image/png": "iVBORw0KGgoAAAANSUhEUgAAAScAAAD6CAYAAADjjYEEAAAABHNCSVQICAgIfAhkiAAAAAlwSFlz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\nAAAASUVORK5CYII=\n",
      "text/plain": [
       "<Figure size 432x288 with 2 Axes>"
      ]
     },
     "metadata": {},
     "output_type": "display_data"
    }
   ],
   "source": [
    "# Keep track of correct guesses in a confusion matrix\n",
    "n_categories = 4\n",
    "confusion = torch.zeros(n_categories, n_categories)\n",
    "n_confusion = 10000\n",
    "\n",
    "# Go through a bunch of examples and record which are correctly guessed\n",
    "for i in range(n_confusion):\n",
    "    category, line, category_tensor, line_tensor = random_training_example()\n",
    "    output = evaluate(line_tensor)\n",
    "    guess, guess_i = category_from_output(output)\n",
    "    category_i = all_categories.index(category)\n",
    "    confusion[category_i][guess_i] += 1\n",
    "\n",
    "# Normalize by dividing every row by its sum\n",
    "for i in range(n_categories):\n",
    "    confusion[i] = confusion[i] / confusion[i].sum()\n",
    "\n",
    "# Set up plot\n",
    "fig = plt.figure()\n",
    "ax = fig.add_subplot(111)\n",
    "cax = ax.matshow(confusion.numpy())\n",
    "fig.colorbar(cax)\n",
    "\n",
    "# Set up axes\n",
    "ax.set_xticklabels([''] + all_categories, rotation=90)\n",
    "ax.set_yticklabels([''] + all_categories)\n",
    "\n",
    "# Force label at every tick\n",
    "ax.xaxis.set_major_locator(ticker.MultipleLocator(1))\n",
    "ax.yaxis.set_major_locator(ticker.MultipleLocator(1))\n",
    "\n",
    "# sphinx_gallery_thumbnail_number = 2\n",
    "plt.show()"
   ]
  }
 ],
 "metadata": {
  "kernelspec": {
   "display_name": "Python 3",
   "language": "python",
   "name": "python3"
  },
  "language_info": {
   "codemirror_mode": {
    "name": "ipython",
    "version": 3
   },
   "file_extension": ".py",
   "mimetype": "text/x-python",
   "name": "python",
   "nbconvert_exporter": "python",
   "pygments_lexer": "ipython3",
   "version": "3.6.6"
  }
 },
 "nbformat": 4,
 "nbformat_minor": 2
}
